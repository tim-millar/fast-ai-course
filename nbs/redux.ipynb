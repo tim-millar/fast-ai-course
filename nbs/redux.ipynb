{
 "cells": [
  {
   "cell_type": "markdown",
   "metadata": {},
   "source": [
    "# Dogs vs Cats Redux"
   ]
  },
  {
   "cell_type": "code",
   "execution_count": 6,
   "metadata": {
    "collapsed": false
   },
   "outputs": [],
   "source": [
    "import os\n",
    "from glob import glob\n",
    "import numpy as np"
   ]
  },
  {
   "cell_type": "code",
   "execution_count": 65,
   "metadata": {
    "collapsed": false
   },
   "outputs": [],
   "source": [
    "# define directory paths\n",
    "\n",
    "DATA_PATH = '/home/ubuntu/projects/data'\n",
    "NBS_PATH = '/home/ubuntu/projects/nbs'\n",
    "\n",
    "REDUX_DATA_PATH = DATA_PATH + '/redux'\n",
    "TRAINING_DATA_PATH = REDUX_DATA_PATH + '/train'\n",
    "VALID_DATA_PATH = REDUX_DATA_PATH + '/valid'\n",
    "TEST_DATA_PATH = REDUX_DATA_PATH + '/test'\n",
    "\n",
    "SAMPLE_DATA_PATH = REDUX_DATA_PATH + '/sample'\n",
    "SAMPLE_TRAINING_DATA_PATH = SAMPLE_DATA_PATH + '/train'\n",
    "SAMPLE_VALID_DATA_PATH = SAMPLE_DATA_PATH + '/valid'"
   ]
  },
  {
   "cell_type": "markdown",
   "metadata": {
    "collapsed": false
   },
   "source": [
    "## Organising the Data"
   ]
  },
  {
   "cell_type": "code",
   "execution_count": 35,
   "metadata": {
    "collapsed": false
   },
   "outputs": [
    {
     "name": "stdout",
     "output_type": "stream",
     "text": [
      "/home/ubuntu/projects/data/redux/train\n"
     ]
    }
   ],
   "source": [
    "# validation data\n",
    "\n",
    "%cd $TRAINING_DATA_PATH\n",
    "\n",
    "training_pics = glob('*.jpg')\n",
    "shuffled_pics = np.random.permutation(training_pics)\n",
    "\n",
    "for _,pic in enumerate(shuffled_pics[:2000]):\n",
    "    os.rename(pic, REDUX_DATA_PATH + '/valid/' + pic)\n"
   ]
  },
  {
   "cell_type": "code",
   "execution_count": 43,
   "metadata": {
    "collapsed": false
   },
   "outputs": [
    {
     "name": "stdout",
     "output_type": "stream",
     "text": [
      "/home/ubuntu/projects/data/redux/train\n"
     ]
    }
   ],
   "source": [
    "# sample training data\n",
    "\n",
    "%cd $TRAINING_DATA_PATH\n",
    "\n",
    "training_pics = glob('*.jpg')\n",
    "shuffled_pics = np.random.permutation(training_pics)\n",
    "\n",
    "for _,pic in enumerate(shuffled_pics[:200]):\n",
    "    os.rename(pic, REDUX_DATA_PATH + '/sample/train/' + pic)"
   ]
  },
  {
   "cell_type": "code",
   "execution_count": 44,
   "metadata": {
    "collapsed": false
   },
   "outputs": [
    {
     "name": "stdout",
     "output_type": "stream",
     "text": [
      "/home/ubuntu/projects/data/redux/train\n"
     ]
    }
   ],
   "source": [
    "# sample validation data\n",
    "\n",
    "%cd $TRAINING_DATA_PATH\n",
    "\n",
    "training_pics = glob('*.jpg')\n",
    "shuffled_pics = np.random.permutation(training_pics)\n",
    "\n",
    "for _,pic in enumerate(shuffled_pics[:50]):\n",
    "    os.rename(pic, REDUX_DATA_PATH + '/sample/valid/' + pic)"
   ]
  },
  {
   "cell_type": "code",
   "execution_count": 53,
   "metadata": {
    "collapsed": false
   },
   "outputs": [
    {
     "name": "stdout",
     "output_type": "stream",
     "text": [
      "/home/ubuntu/projects/data/redux/train\n",
      "mv: cannot stat 'dog.*.jpg': No such file or directory\r\n"
     ]
    }
   ],
   "source": [
    "%cd $TRAINING_DATA_PATH\n",
    "%mv dog.*.jpg ./dogs\n",
    "%mv cat.*.jpg ./cats"
   ]
  },
  {
   "cell_type": "code",
   "execution_count": 54,
   "metadata": {
    "collapsed": false
   },
   "outputs": [
    {
     "name": "stdout",
     "output_type": "stream",
     "text": [
      "/home/ubuntu/projects/data/redux/valid\n"
     ]
    }
   ],
   "source": [
    "%cd $VALID_DATA_PATH\n",
    "%mv dog.*.jpg ./dogs\n",
    "%mv cat.*.jpg ./cats"
   ]
  },
  {
   "cell_type": "code",
   "execution_count": 58,
   "metadata": {
    "collapsed": false
   },
   "outputs": [
    {
     "name": "stdout",
     "output_type": "stream",
     "text": [
      "/home/ubuntu/projects/data/redux/sample/train\n"
     ]
    }
   ],
   "source": [
    "%cd $SAMPLE_TRAINING_DATA_PATH\n",
    "%mkdir cats\n",
    "%mkdir dogs\n",
    "%mv dog.*.jpg ./dogs\n",
    "%mv cat.*.jpg ./cats"
   ]
  },
  {
   "cell_type": "code",
   "execution_count": 59,
   "metadata": {
    "collapsed": false
   },
   "outputs": [
    {
     "name": "stdout",
     "output_type": "stream",
     "text": [
      "/home/ubuntu/projects/data/redux/sample/valid\n"
     ]
    }
   ],
   "source": [
    "%cd $SAMPLE_VALID_DATA_PATH\n",
    "%mkdir cats\n",
    "%mkdir dogs\n",
    "%mv dog.*.jpg ./dogs\n",
    "%mv cat.*.jpg ./cats"
   ]
  },
  {
   "cell_type": "code",
   "execution_count": 66,
   "metadata": {
    "collapsed": false
   },
   "outputs": [
    {
     "name": "stdout",
     "output_type": "stream",
     "text": [
      "/home/ubuntu/projects/data/redux/test\n"
     ]
    }
   ],
   "source": [
    "%cd $TEST_DATA_PATH\n",
    "%mv *.jpg ./unknown"
   ]
  },
  {
   "cell_type": "markdown",
   "metadata": {},
   "source": [
    "## Fitting the Model"
   ]
  },
  {
   "cell_type": "code",
   "execution_count": null,
   "metadata": {
    "collapsed": true
   },
   "outputs": [],
   "source": []
  }
 ],
 "metadata": {
  "anaconda-cloud": {},
  "kernelspec": {
   "display_name": "Python [conda root]",
   "language": "python",
   "name": "conda-root-py"
  },
  "language_info": {
   "codemirror_mode": {
    "name": "ipython",
    "version": 2
   },
   "file_extension": ".py",
   "mimetype": "text/x-python",
   "name": "python",
   "nbconvert_exporter": "python",
   "pygments_lexer": "ipython2",
   "version": "2.7.12"
  }
 },
 "nbformat": 4,
 "nbformat_minor": 1
}
